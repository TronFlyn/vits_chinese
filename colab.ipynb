{
  "cells": [
    {
      "cell_type": "markdown",
      "metadata": {
        "id": "65CU-n-JHhbY"
      },
      "source": [
        "# Clone repository"
      ]
    },
    {
      "cell_type": "code",
      "execution_count": null,
      "metadata": {
        "colab": {
          "base_uri": "https://localhost:8080/"
        },
        "id": "i_0vZ-OjHVNu",
        "outputId": "3f4a500c-8728-4d9b-e014-615339461f3d"
      },
      "outputs": [],
      "source": [
        "!git clone https://github.com/TronFlyn/vits_chinese\n",
        "%cd vits_chinese"
      ]
    },
    {
      "cell_type": "code",
      "execution_count": null,
      "metadata": {
        "colab": {
          "base_uri": "https://localhost:8080/"
        },
        "id": "smGF80ufrZxu",
        "outputId": "a1dccd34-a9c1-4265-893d-005b87c619a0"
      },
      "outputs": [],
      "source": [
        "!/opt/bin/nvidia-smi"
      ]
    },
    {
      "cell_type": "code",
      "execution_count": null,
      "metadata": {
        "colab": {
          "base_uri": "https://localhost:8080/",
          "height": 1000
        },
        "id": "6vOAlBTavYsc",
        "outputId": "13ed039d-51a5-4dea-f54d-9230e2a46e66"
      },
      "outputs": [],
      "source": [
        "!pip install -r requirements.txt\n",
        "!sudo apt-get install espeak -y"
      ]
    },
    {
      "cell_type": "markdown",
      "metadata": {
        "id": "G0iLn2JxKYhl"
      },
      "source": [
        "# Mount Google Drive"
      ]
    },
    {
      "cell_type": "code",
      "execution_count": null,
      "metadata": {
        "colab": {
          "base_uri": "https://localhost:8080/"
        },
        "id": "ZOgjdsQgKTfD",
        "outputId": "b02c6486-634d-4e3a-e5ef-b864a6680ad0"
      },
      "outputs": [],
      "source": [
        "from google.colab import drive\n",
        "drive.mount('/content/drive')"
      ]
    },
    {
      "cell_type": "markdown",
      "metadata": {
        "id": "UZ9maSoUmHaS"
      },
      "source": [
        "# Unpack dataset"
      ]
    },
    {
      "cell_type": "code",
      "execution_count": null,
      "metadata": {
        "colab": {
          "base_uri": "https://localhost:8080/"
        },
        "id": "N3a-FsHghwXS",
        "outputId": "60bc1795-1aef-4a8d-9b5c-172e09f65bda"
      },
      "outputs": [],
      "source": [
        "!cp -r /content/drive/MyDrive/rika_train /content/vits_chinese/rika_train"
      ]
    },
    {
      "cell_type": "code",
      "execution_count": null,
      "metadata": {
        "colab": {
          "base_uri": "https://localhost:8080/"
        },
        "id": "gB6Bz3KoWYra",
        "outputId": "ccf53ea4-dd9b-4217-caee-219d7d7c100c"
      },
      "outputs": [],
      "source": [
        "!sudo apt-get install sox"
      ]
    },
    {
      "cell_type": "code",
      "execution_count": null,
      "metadata": {
        "colab": {
          "base_uri": "https://localhost:8080/"
        },
        "id": "UQT4d7zqcaF5",
        "outputId": "d314f364-f619-4f08-d81c-099eaa3c9e33"
      },
      "outputs": [],
      "source": [
        "%cd /content/vits_chinese/rika_train"
      ]
    },
    {
      "cell_type": "code",
      "execution_count": 8,
      "metadata": {
        "id": "5E0ENKZiduQ-"
      },
      "outputs": [],
      "source": [
        "%%bash\n",
        "for x in ./*.wav\n",
        "do \n",
        "  b=${x##*/}\n",
        "  sox $b -r 22050 tmp_$b\n",
        "  rm -rf $b\n",
        "  mv tmp_$b $b\n",
        "done"
      ]
    },
    {
      "cell_type": "markdown",
      "metadata": {
        "id": "LY9d2hgjmYUF"
      },
      "source": [
        "# Alignment"
      ]
    },
    {
      "cell_type": "code",
      "execution_count": null,
      "metadata": {
        "colab": {
          "base_uri": "https://localhost:8080/"
        },
        "id": "L-pAq7ppSp-Z",
        "outputId": "e02edc31-4328-48eb-c7c6-47d61753c8ac"
      },
      "outputs": [],
      "source": [
        "import os\n",
        "path = \"/content/vits_chinese\"\n",
        "os.chdir(path)\n",
        "print(os.getcwd())"
      ]
    },
    {
      "cell_type": "code",
      "execution_count": null,
      "metadata": {
        "colab": {
          "base_uri": "https://localhost:8080/"
        },
        "id": "LOsV22D8IUTS",
        "outputId": "6c049fb4-4e1e-4d4d-f32d-e373bcd1607e"
      },
      "outputs": [],
      "source": [
        "%cd monotonic_align\n",
        "!python setup.py build_ext --inplace\n",
        "%cd .."
      ]
    },
    {
      "cell_type": "code",
      "execution_count": null,
      "metadata": {
        "colab": {
          "base_uri": "https://localhost:8080/"
        },
        "id": "5feIfJWdRNRB",
        "outputId": "f28f9e51-9a5a-49e5-93d6-91a97b8f59c9"
      },
      "outputs": [],
      "source": [
        "import os\n",
        "path = \"/content/vits_chinese\"\n",
        "os.chdir(path)\n",
        "print(os.getcwd())"
      ]
    },
    {
      "cell_type": "code",
      "execution_count": null,
      "metadata": {
        "colab": {
          "base_uri": "https://localhost:8080/"
        },
        "id": "JXYOrkJmRuSh",
        "outputId": "9cbff4b0-58d3-498c-96d4-57131dc5512d"
      },
      "outputs": [],
      "source": [
        "!python preprocess.py --text_index 1 --text_cleaners chinese_cleaners1 --filelists /content/vits_chinese/rika_train/rika_text.txt /content/vits_chinese/rika_train/rika_val_text.txt"
      ]
    },
    {
      "cell_type": "markdown",
      "metadata": {
        "id": "gjIAR_UsmPEz"
      },
      "source": [
        "# Train"
      ]
    },
    {
      "cell_type": "code",
      "execution_count": null,
      "metadata": {
        "colab": {
          "base_uri": "https://localhost:8080/"
        },
        "id": "MrV5GulH3us_",
        "outputId": "6220e7c7-bb5d-4218-b807-a5b6bfea49c7"
      },
      "outputs": [],
      "source": [
        "!python train.py -c configs/rika.json -m rika"
      ]
    },
    {
      "cell_type": "code",
      "execution_count": null,
      "metadata": {
        "colab": {
          "base_uri": "https://localhost:8080/"
        },
        "id": "S8gpGR7HUx8w",
        "outputId": "017ee1ae-1af5-4dc3-831a-d5427c44c710"
      },
      "outputs": [],
      "source": [
        "#在\"代码执行程序\"下拉菜单选择\"重新启动代码程序\"\n",
        "#再从该代码框开始，进行推断和输出语音\n",
        "import os\n",
        "path = \"/content/vits_chinese\"\n",
        "os.chdir(path)\n",
        "print(os.getcwd())\n",
        "\n",
        "%matplotlib inline\n",
        "import matplotlib.pyplot as plt\n",
        "import IPython.display as ipd\n",
        "\n",
        "import os\n",
        "import json\n",
        "import math\n",
        "import torch\n",
        "from torch import nn\n",
        "from torch.nn import functional as F\n",
        "from torch.utils.data import DataLoader\n",
        "\n",
        "import commons\n",
        "import utils\n",
        "from data_utils import TextAudioLoader, TextAudioCollate, TextAudioSpeakerLoader, TextAudioSpeakerCollate\n",
        "from models import SynthesizerTrn\n",
        "from text.symbols import symbols\n",
        "from text import text_to_sequence\n",
        "\n",
        "from scipy.io.wavfile import write\n",
        "\n",
        "\n",
        "def get_text(text, hps):\n",
        "    text_norm = text_to_sequence(text, hps.data.text_cleaners)\n",
        "    if hps.data.add_blank:\n",
        "        text_norm = commons.intersperse(text_norm, 0)\n",
        "    text_norm = torch.LongTensor(text_norm)\n",
        "    return text_norm"
      ]
    },
    {
      "cell_type": "code",
      "execution_count": 3,
      "metadata": {
        "id": "o3OCVb09sM3D"
      },
      "outputs": [],
      "source": [
        "hps = utils.get_hparams_from_file(\"/content/vits_chinese/configs/rika.json\")"
      ]
    },
    {
      "cell_type": "code",
      "execution_count": 4,
      "metadata": {
        "id": "O3K5fYBnJSfT"
      },
      "outputs": [],
      "source": [
        "net_g = SynthesizerTrn(\n",
        "    len(symbols),\n",
        "    hps.data.filter_length // 2 + 1,\n",
        "    hps.train.segment_size // hps.data.hop_length,\n",
        "    **hps.model).cuda()\n",
        "_ = net_g.eval()\n",
        "\n",
        "_ = utils.load_checkpoint(\"/content/vits_chinese/logs/rika/G_10000.pth\", net_g, None)"
      ]
    },
    {
      "cell_type": "code",
      "execution_count": null,
      "metadata": {
        "colab": {
          "base_uri": "https://localhost:8080/",
          "height": 74
        },
        "id": "Q1MxZNQudiPa",
        "outputId": "406b6e81-9a24-43be-f983-b8911c38fe89"
      },
      "outputs": [],
      "source": [
        "stn_tst = get_text(\"你好，别在这里发癫。\", hps)\n",
        "with torch.no_grad():\n",
        "    x_tst = stn_tst.cuda().unsqueeze(0)\n",
        "    x_tst_lengths = torch.LongTensor([stn_tst.size(0)]).cuda()\n",
        "    audio = net_g.infer(x_tst, x_tst_lengths, noise_scale=.667, noise_scale_w=0.8, length_scale=1)[0][0,0].data.cpu().float().numpy()\n",
        "ipd.display(ipd.Audio(audio, rate=hps.data.sampling_rate))"
      ]
    },
    {
      "cell_type": "code",
      "execution_count": 9,
      "metadata": {
        "id": "5Qx691T7K2W8"
      },
      "outputs": [],
      "source": [
        "#把checkpoint存入google drive\n",
        "!cp -r /content/vits_chinese/logs/rika /content/drive/MyDrive/"
      ]
    }
  ],
  "metadata": {
    "accelerator": "GPU",
    "colab": {
      "collapsed_sections": [],
      "machine_shape": "hm",
      "name": "“vits.ipynb”的副本",
      "provenance": []
    },
    "gpuClass": "standard",
    "kernelspec": {
      "display_name": "Python 3",
      "name": "python3"
    },
    "language_info": {
      "name": "python"
    }
  },
  "nbformat": 4,
  "nbformat_minor": 0
}
