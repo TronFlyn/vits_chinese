{
 "cells": [
  {
   "cell_type": "markdown",
   "metadata": {
    "id": "65CU-n-JHhbY"
   },
   "source": [
    "# Clone repository"
   ]
  },
  {
   "cell_type": "code",
   "execution_count": null,
   "metadata": {
    "colab": {
     "base_uri": "https://localhost:8080/"
    },
    "id": "i_0vZ-OjHVNu",
    "outputId": "3f4a500c-8728-4d9b-e014-615339461f3d"
   },
   "outputs": [],
   "source": [
    "!git clone https://github.com/TronFlyn/vits_chinese\n",
    "%cd vits_chinese"
   ]
  },
  {
   "cell_type": "code",
   "execution_count": null,
   "metadata": {
    "colab": {
     "base_uri": "https://localhost:8080/"
    },
    "id": "smGF80ufrZxu",
    "outputId": "a1dccd34-a9c1-4265-893d-005b87c619a0"
   },
   "outputs": [],
   "source": [
    "!nvidia-smi"
   ]
  },
  {
   "cell_type": "code",
   "execution_count": null,
   "metadata": {
    "colab": {
     "base_uri": "https://localhost:8080/",
     "height": 1000
    },
    "id": "6vOAlBTavYsc",
    "outputId": "13ed039d-51a5-4dea-f54d-9230e2a46e66"
   },
   "outputs": [],
   "source": [
    "!pip install -r requirements.txt\n",
    "!sudo apt-get install espeak -y"
   ]
  },
  {
   "cell_type": "markdown",
   "metadata": {
    "id": "LY9d2hgjmYUF"
   },
   "source": [
    "# Alignment"
   ]
  },
  {
   "cell_type": "code",
   "execution_count": null,
   "metadata": {
    "colab": {
     "base_uri": "https://localhost:8080/"
    },
    "id": "L-pAq7ppSp-Z",
    "outputId": "e02edc31-4328-48eb-c7c6-47d61753c8ac"
   },
   "outputs": [],
   "source": [
    "import os\n",
    "path = \"~/vits_chinese\"\n",
    "os.chdir(path)\n",
    "print(os.getcwd())"
   ]
  },
  {
   "cell_type": "code",
   "execution_count": null,
   "metadata": {
    "colab": {
     "base_uri": "https://localhost:8080/"
    },
    "id": "LOsV22D8IUTS",
    "outputId": "6c049fb4-4e1e-4d4d-f32d-e373bcd1607e"
   },
   "outputs": [],
   "source": [
    "%cd monotonic_align\n",
    "!python setup.py build_ext --inplace\n",
    "%cd .."
   ]
  },
  {
   "cell_type": "code",
   "execution_count": null,
   "metadata": {
    "colab": {
     "base_uri": "https://localhost:8080/"
    },
    "id": "5feIfJWdRNRB",
    "outputId": "f28f9e51-9a5a-49e5-93d6-91a97b8f59c9"
   },
   "outputs": [],
   "source": [
    "import os\n",
    "path = \"~/vits_chinese\"\n",
    "os.chdir(path)\n",
    "print(os.getcwd())"
   ]
  },
  {
   "cell_type": "code",
   "execution_count": null,
   "metadata": {
    "colab": {
     "base_uri": "https://localhost:8080/"
    },
    "id": "JXYOrkJmRuSh",
    "outputId": "9cbff4b0-58d3-498c-96d4-57131dc5512d"
   },
   "outputs": [],
   "source": [
    "!python preprocess.py --text_index 1 --text_cleaners chinese_cleaners --filelists ~/vits_chinese/mxj_text/mxj.txt ~/vits_chinese/mxj_text/mxj_val.txt"
   ]
  },
  {
   "cell_type": "markdown",
   "metadata": {
    "id": "gjIAR_UsmPEz"
   },
   "source": [
    "# Train"
   ]
  },
  {
   "cell_type": "code",
   "execution_count": null,
   "metadata": {
    "colab": {
     "base_uri": "https://localhost:8080/"
    },
    "id": "MrV5GulH3us_",
    "outputId": "6220e7c7-bb5d-4218-b807-a5b6bfea49c7"
   },
   "outputs": [],
   "source": [
    "!python train.py -c configs/mxj_v4.json -m mxj_v4"
   ]
  },
  {
   "cell_type": "code",
   "execution_count": null,
   "metadata": {
    "colab": {
     "base_uri": "https://localhost:8080/"
    },
    "id": "S8gpGR7HUx8w",
    "outputId": "017ee1ae-1af5-4dc3-831a-d5427c44c710"
   },
   "outputs": [],
   "source": [
    "#在\"代码执行程序\"下拉菜单选择\"重新启动代码程序\"\n",
    "#再从该代码框开始，进行推断和输出语音\n",
    "import os\n",
    "path = \"~/vits_chinese\"\n",
    "os.chdir(path)\n",
    "print(os.getcwd())\n",
    "\n",
    "%matplotlib inline\n",
    "import matplotlib.pyplot as plt\n",
    "import IPython.display as ipd\n",
    "\n",
    "import os\n",
    "import json\n",
    "import math\n",
    "import torch\n",
    "from torch import nn\n",
    "from torch.nn import functional as F\n",
    "from torch.utils.data import DataLoader\n",
    "\n",
    "import commons\n",
    "import utils\n",
    "from data_utils import TextAudioLoader, TextAudioCollate, TextAudioSpeakerLoader, TextAudioSpeakerCollate\n",
    "from models import SynthesizerTrn\n",
    "from text.symbols import symbols\n",
    "from text import text_to_sequence\n",
    "\n",
    "from scipy.io.wavfile import write\n",
    "\n",
    "\n",
    "def get_text(text, hps):\n",
    "    text_norm = text_to_sequence(text, hps.data.text_cleaners)\n",
    "    if hps.data.add_blank:\n",
    "        text_norm = commons.intersperse(text_norm, 0)\n",
    "    text_norm = torch.LongTensor(text_norm)\n",
    "    return text_norm"
   ]
  },
  {
   "cell_type": "code",
   "execution_count": null,
   "metadata": {
    "id": "o3OCVb09sM3D"
   },
   "outputs": [],
   "source": [
    "hps = utils.get_hparams_from_file(\"/content/vits_chinese/configs/mxj_v4.json\")"
   ]
  },
  {
   "cell_type": "code",
   "execution_count": null,
   "metadata": {
    "id": "O3K5fYBnJSfT"
   },
   "outputs": [],
   "source": [
    "net_g = SynthesizerTrn(\n",
    "    len(symbols),\n",
    "    hps.data.filter_length // 2 + 1,\n",
    "    hps.train.segment_size // hps.data.hop_length,\n",
    "    **hps.model).cuda()\n",
    "_ = net_g.eval()\n",
    "\n",
    "_ = utils.load_checkpoint(\"/content/vits_chinese/logs/rika/G_10000.pth\", net_g, None)"
   ]
  },
  {
   "cell_type": "code",
   "execution_count": null,
   "metadata": {
    "colab": {
     "base_uri": "https://localhost:8080/",
     "height": 74
    },
    "id": "Q1MxZNQudiPa",
    "outputId": "406b6e81-9a24-43be-f983-b8911c38fe89"
   },
   "outputs": [],
   "source": [
    "stn_tst = get_text(\"你好，别在这里发癫。\", hps)\n",
    "with torch.no_grad():\n",
    "    x_tst = stn_tst.cuda().unsqueeze(0)\n",
    "    x_tst_lengths = torch.LongTensor([stn_tst.size(0)]).cuda()\n",
    "    audio = net_g.infer(x_tst, x_tst_lengths, noise_scale=.667, noise_scale_w=0.8, length_scale=1)[0][0,0].data.cpu().float().numpy()\n",
    "ipd.display(ipd.Audio(audio, rate=hps.data.sampling_rate))"
   ]
  }
 ],
 "metadata": {
  "accelerator": "GPU",
  "colab": {
   "collapsed_sections": [],
   "machine_shape": "hm",
   "name": "“vits.ipynb”的副本",
   "provenance": []
  },
  "gpuClass": "standard",
  "kernelspec": {
   "display_name": "Python 3 (ipykernel)",
   "language": "python",
   "name": "python3"
  },
  "language_info": {
   "codemirror_mode": {
    "name": "ipython",
    "version": 3
   },
   "file_extension": ".py",
   "mimetype": "text/x-python",
   "name": "python",
   "nbconvert_exporter": "python",
   "pygments_lexer": "ipython3",
   "version": "3.8.10"
  },
  "vscode": {
   "interpreter": {
    "hash": "b30f2c491e55bf6cf9a17a641be09f200e6821b7526dda23542985a9b1ae470b"
   }
  }
 },
 "nbformat": 4,
 "nbformat_minor": 1
}
