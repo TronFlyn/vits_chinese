{
 "cells": [
  {
   "cell_type": "markdown",
   "metadata": {
    "id": "65CU-n-JHhbY"
   },
   "source": [
    "# 下载GitHub仓库"
   ]
  },
  {
   "cell_type": "code",
   "execution_count": null,
   "metadata": {
    "colab": {
     "base_uri": "https://localhost:8080/"
    },
    "executionInfo": {
     "elapsed": 873,
     "status": "ok",
     "timestamp": 1660499188562,
     "user": {
      "displayName": "雨",
      "userId": "16814880682179917082"
     },
     "user_tz": -480
    },
    "id": "i_0vZ-OjHVNu",
    "outputId": "31c656f2-27ca-41c4-849b-dd4a4a7e11ce",
    "tags": []
   },
   "outputs": [],
   "source": [
    "%cd /root/autodl-tmp\n",
    "!git clone https://github.com/TronFlyn/vits_chinese\n",
    "%cd vits_chinese"
   ]
  },
  {
   "cell_type": "code",
   "execution_count": null,
   "metadata": {},
   "outputs": [],
   "source": [
    "!git pull"
   ]
  },
  {
   "cell_type": "markdown",
   "metadata": {},
   "source": [
    "# 查看N卡状态"
   ]
  },
  {
   "cell_type": "code",
   "execution_count": null,
   "metadata": {
    "colab": {
     "base_uri": "https://localhost:8080/"
    },
    "executionInfo": {
     "elapsed": 631,
     "status": "ok",
     "timestamp": 1660499191146,
     "user": {
      "displayName": "雨",
      "userId": "16814880682179917082"
     },
     "user_tz": -480
    },
    "id": "smGF80ufrZxu",
    "outputId": "f5e70149-71ae-462e-e3da-79460ea0d22c"
   },
   "outputs": [],
   "source": [
    "!nvidia-smi"
   ]
  },
  {
   "cell_type": "markdown",
   "metadata": {},
   "source": [
    "# 安装依赖"
   ]
  },
  {
   "cell_type": "code",
   "execution_count": null,
   "metadata": {
    "colab": {
     "base_uri": "https://localhost:8080/",
     "height": 1000
    },
    "executionInfo": {
     "elapsed": 35519,
     "status": "ok",
     "timestamp": 1660499230084,
     "user": {
      "displayName": "雨",
      "userId": "16814880682179917082"
     },
     "user_tz": -480
    },
    "id": "6vOAlBTavYsc",
    "outputId": "e8f8f1ea-7c50-4065-d39e-1663cd1880cf"
   },
   "outputs": [],
   "source": [
    "%cd /root/autodl-tmp/vits_chinese\n",
    "!sudo pip install -r requirements.txt\n",
    "!sudo apt-get install espeak -y"
   ]
  },
  {
   "cell_type": "markdown",
   "metadata": {
    "id": "UZ9maSoUmHaS"
   },
   "source": [
    "# 处理数据包"
   ]
  },
  {
   "cell_type": "code",
   "execution_count": null,
   "metadata": {
    "id": "N3a-FsHghwXS"
   },
   "outputs": [],
   "source": [
    "!cp /root/autodl-tmp/mxj.zip /root/autodl-tmp/vits_chinese/mxj.zip"
   ]
  },
  {
   "cell_type": "code",
   "execution_count": null,
   "metadata": {
    "colab": {
     "base_uri": "https://localhost:8080/"
    },
    "executionInfo": {
     "elapsed": 6874,
     "status": "ok",
     "timestamp": 1660499323715,
     "user": {
      "displayName": "雨",
      "userId": "16814880682179917082"
     },
     "user_tz": -480
    },
    "id": "RY667hrLsku5",
    "outputId": "0ab61ea0-1fc2-4627-b7df-b2ffcdf1a99f"
   },
   "outputs": [],
   "source": [
    "%cd /root/autodl-tmp/vits_chinese\n",
    "!unzip -q -d /root/autodl-tmp/vits_chinese/mxj mxj.zip"
   ]
  },
  {
   "cell_type": "markdown",
   "metadata": {
    "id": "LY9d2hgjmYUF"
   },
   "source": [
    "# 文本预处理"
   ]
  },
  {
   "cell_type": "code",
   "execution_count": null,
   "metadata": {
    "colab": {
     "base_uri": "https://localhost:8080/"
    },
    "executionInfo": {
     "elapsed": 414,
     "status": "ok",
     "timestamp": 1660499326088,
     "user": {
      "displayName": "雨",
      "userId": "16814880682179917082"
     },
     "user_tz": -480
    },
    "id": "L-pAq7ppSp-Z",
    "outputId": "3f3e9654-4a04-4b59-ae8a-23b6ad2b1301"
   },
   "outputs": [],
   "source": [
    "import os\n",
    "path = \"/root/autodl-tmp/vits_chinese\"\n",
    "os.chdir(path)\n",
    "print(os.getcwd())"
   ]
  },
  {
   "cell_type": "code",
   "execution_count": null,
   "metadata": {
    "colab": {
     "base_uri": "https://localhost:8080/"
    },
    "executionInfo": {
     "elapsed": 4562,
     "status": "ok",
     "timestamp": 1660499332715,
     "user": {
      "displayName": "雨",
      "userId": "16814880682179917082"
     },
     "user_tz": -480
    },
    "id": "LOsV22D8IUTS",
    "outputId": "377d309f-834c-43a7-eb62-4f9374796d75"
   },
   "outputs": [],
   "source": [
    "%cd /root/autodl-tmp/vits_chinese/monotonic_align\n",
    "!python setup.py build_ext --inplace\n",
    "%cd .."
   ]
  },
  {
   "cell_type": "code",
   "execution_count": null,
   "metadata": {
    "colab": {
     "base_uri": "https://localhost:8080/"
    },
    "executionInfo": {
     "elapsed": 423,
     "status": "ok",
     "timestamp": 1660499379804,
     "user": {
      "displayName": "雨",
      "userId": "16814880682179917082"
     },
     "user_tz": -480
    },
    "id": "5feIfJWdRNRB",
    "outputId": "5f6c756f-3e9c-4010-8f71-4a6d570ec15a"
   },
   "outputs": [],
   "source": [
    "import os\n",
    "path = \"/root/autodl-tmp/vits_chinese\"\n",
    "os.chdir(path)\n",
    "print(os.getcwd())"
   ]
  },
  {
   "cell_type": "code",
   "execution_count": null,
   "metadata": {
    "colab": {
     "base_uri": "https://localhost:8080/"
    },
    "executionInfo": {
     "elapsed": 5172,
     "status": "ok",
     "timestamp": 1660499389537,
     "user": {
      "displayName": "雨",
      "userId": "16814880682179917082"
     },
     "user_tz": -480
    },
    "id": "JXYOrkJmRuSh",
    "outputId": "ba183239-dd67-4c24-d848-a395ac6ea6f7"
   },
   "outputs": [],
   "source": [
    "!python preprocess.py --text_index 1 --text_cleaners chinese_cleaners1 --filelists /root/autodl-tmp/vits_chinese/mxj_text/mxj.txt /root/autodl-tmp/vits_chinese/mxj_text/mxj_val.txt"
   ]
  },
  {
   "cell_type": "markdown",
   "metadata": {
    "id": "gjIAR_UsmPEz",
    "tags": []
   },
   "source": [
    "# 训练"
   ]
  },
  {
   "cell_type": "code",
   "execution_count": null,
   "metadata": {
    "colab": {
     "base_uri": "https://localhost:8080/"
    },
    "executionInfo": {
     "elapsed": 1006188,
     "status": "ok",
     "timestamp": 1660512277046,
     "user": {
      "displayName": "雨",
      "userId": "16814880682179917082"
     },
     "user_tz": -480
    },
    "id": "MrV5GulH3us_",
    "outputId": "83cc0aae-17f8-4e8c-e4e5-cf233bc60e7b"
   },
   "outputs": [],
   "source": [
    "!python train.py -c configs/mxj.json -m mxj"
   ]
  },
  {
   "cell_type": "markdown",
   "metadata": {},
   "source": [
    "# 合成语音"
   ]
  },
  {
   "cell_type": "code",
   "execution_count": null,
   "metadata": {
    "colab": {
     "base_uri": "https://localhost:8080/"
    },
    "executionInfo": {
     "elapsed": 2500,
     "status": "ok",
     "timestamp": 1660496848992,
     "user": {
      "displayName": "雨",
      "userId": "16814880682179917082"
     },
     "user_tz": -480
    },
    "id": "S8gpGR7HUx8w",
    "outputId": "85a7028d-4814-492c-884c-02b736132959",
    "tags": []
   },
   "outputs": [],
   "source": [
    "#在\"代码执行程序\"下拉菜单选择\"重新启动代码程序\"\n",
    "#再从该代码框开始，进行推断和输出语音\n",
    "import os\n",
    "path = \"/root/autodl-tmp/vits_chinese\"\n",
    "os.chdir(path)\n",
    "print(os.getcwd())\n",
    "\n",
    "%matplotlib inline\n",
    "import matplotlib.pyplot as plt\n",
    "import IPython.display as ipd\n",
    "\n",
    "import os\n",
    "import json\n",
    "import math\n",
    "import torch\n",
    "from torch import nn\n",
    "from torch.nn import functional as F\n",
    "from torch.utils.data import DataLoader\n",
    "\n",
    "import commons\n",
    "import utils\n",
    "from data_utils import TextAudioLoader, TextAudioCollate, TextAudioSpeakerLoader, TextAudioSpeakerCollate\n",
    "from models import SynthesizerTrn\n",
    "from text.symbols import symbols\n",
    "from text import text_to_sequence\n",
    "\n",
    "from scipy.io.wavfile import write\n",
    "\n",
    "\n",
    "def get_text(text, hps):\n",
    "    text_norm = text_to_sequence(text, hps.data.text_cleaners)\n",
    "    if hps.data.add_blank:\n",
    "        text_norm = commons.intersperse(text_norm, 0)\n",
    "    text_norm = torch.LongTensor(text_norm)\n",
    "    return text_norm"
   ]
  },
  {
   "cell_type": "code",
   "execution_count": null,
   "metadata": {
    "id": "o3OCVb09sM3D"
   },
   "outputs": [],
   "source": [
    "hps = utils.get_hparams_from_file(\"/root/autodl-tmp/vits_chinese/configs/mxj.json\")"
   ]
  },
  {
   "cell_type": "code",
   "execution_count": null,
   "metadata": {
    "id": "O3K5fYBnJSfT"
   },
   "outputs": [],
   "source": [
    "net_g = SynthesizerTrn(\n",
    "    len(symbols),\n",
    "    hps.data.filter_length // 2 + 1,\n",
    "    hps.train.segment_size // hps.data.hop_length,\n",
    "    **hps.model).cuda()\n",
    "_ = net_g.eval()\n",
    "\n",
    "_ = utils.load_checkpoint(\"/root/autodl-tmp/vits_chinese/logs/mxj/G_10000.pth\", net_g, None)"
   ]
  },
  {
   "cell_type": "code",
   "execution_count": null,
   "metadata": {
    "colab": {
     "base_uri": "https://localhost:8080/",
     "height": 74
    },
    "executionInfo": {
     "elapsed": 3822,
     "status": "ok",
     "timestamp": 1660496886827,
     "user": {
      "displayName": "雨",
      "userId": "16814880682179917082"
     },
     "user_tz": -480
    },
    "id": "Q1MxZNQudiPa",
    "outputId": "4ead57cf-d51d-490e-f054-c947c4182f0f"
   },
   "outputs": [],
   "source": [
    "stn_tst = get_text(\"你这变态，就这么喜欢被我用脚踩吗！\", hps)\n",
    "with torch.no_grad():\n",
    "    x_tst = stn_tst.cuda().unsqueeze(0)\n",
    "    x_tst_lengths = torch.LongTensor([stn_tst.size(0)]).cuda()\n",
    "    sid = torch.LongTensor([1024]).cuda()\n",
    "    audio = net_g.infer(x_tst, x_tst_lengths,sid=sid, noise_scale=.667, noise_scale_w=0.8, length_scale=1)[0][0,0].data.cpu().float().numpy()\n",
    "ipd.display(ipd.Audio(audio, rate=hps.data.sampling_rate))"
   ]
  },
  {
   "cell_type": "code",
   "execution_count": null,
   "metadata": {},
   "outputs": [],
   "source": []
  }
 ],
 "metadata": {
  "accelerator": "GPU",
  "colab": {
   "collapsed_sections": [],
   "machine_shape": "hm",
   "name": "mxj.ipynb",
   "provenance": [
    {
     "file_id": "1aoCyBaURg4zxpg7zLdy-3NkpzWHe0Esk",
     "timestamp": 1660486126405
    }
   ]
  },
  "gpuClass": "standard",
  "kernelspec": {
   "display_name": "Python 3.8.10 64-bit",
   "language": "python",
   "name": "python3"
  },
  "language_info": {
   "codemirror_mode": {
    "name": "ipython",
    "version": 3
   },
   "file_extension": ".py",
   "mimetype": "text/x-python",
   "name": "python",
   "nbconvert_exporter": "python",
   "pygments_lexer": "ipython3",
   "version": "3.8.10"
  },
  "vscode": {
   "interpreter": {
    "hash": "b30f2c491e55bf6cf9a17a641be09f200e6821b7526dda23542985a9b1ae470b"
   }
  }
 },
 "nbformat": 4,
 "nbformat_minor": 4
}
