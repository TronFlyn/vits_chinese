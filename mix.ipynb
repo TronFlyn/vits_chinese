{
 "cells": [
  {
   "cell_type": "markdown",
   "metadata": {},
   "source": [
    "# 查看N卡状态"
   ]
  },
  {
   "cell_type": "code",
   "execution_count": null,
   "metadata": {
    "colab": {
     "base_uri": "https://localhost:8080/"
    },
    "executionInfo": {
     "elapsed": 631,
     "status": "ok",
     "timestamp": 1660499191146,
     "user": {
      "displayName": "雨",
      "userId": "16814880682179917082"
     },
     "user_tz": -480
    },
    "id": "smGF80ufrZxu",
    "outputId": "f5e70149-71ae-462e-e3da-79460ea0d22c"
   },
   "outputs": [],
   "source": [
    "!nvidia-smi"
   ]
  },
  {
   "cell_type": "code",
   "execution_count": null,
   "metadata": {},
   "outputs": [],
   "source": [
    "import torch\n",
    "torch.cuda.empty_cache()\n",
    "# 计算总内存\n",
    "total_memory = torch.cuda.get_device_properties(0).total_memory\n",
    "# 占用全部显存\n",
    "tmp_tensor = torch.empty(int(total_memory), dtype=torch.int8, device='cuda')"
   ]
  },
  {
   "cell_type": "markdown",
   "metadata": {},
   "source": [
    "# 安装依赖"
   ]
  },
  {
   "cell_type": "code",
   "execution_count": null,
   "metadata": {
    "colab": {
     "base_uri": "https://localhost:8080/",
     "height": 1000
    },
    "executionInfo": {
     "elapsed": 35519,
     "status": "ok",
     "timestamp": 1660499230084,
     "user": {
      "displayName": "雨",
      "userId": "16814880682179917082"
     },
     "user_tz": -480
    },
    "id": "6vOAlBTavYsc",
    "outputId": "e8f8f1ea-7c50-4065-d39e-1663cd1880cf"
   },
   "outputs": [],
   "source": [
    "%cd /root/autodl-tmp/vits_chinese\n",
    "!sudo pip install -r requirements.txt\n",
    "!sudo apt-get install espeak -y"
   ]
  },
  {
   "cell_type": "markdown",
   "metadata": {
    "id": "LY9d2hgjmYUF"
   },
   "source": [
    "# 文本预处理"
   ]
  },
  {
   "cell_type": "code",
   "execution_count": null,
   "metadata": {
    "colab": {
     "base_uri": "https://localhost:8080/"
    },
    "executionInfo": {
     "elapsed": 414,
     "status": "ok",
     "timestamp": 1660499326088,
     "user": {
      "displayName": "雨",
      "userId": "16814880682179917082"
     },
     "user_tz": -480
    },
    "id": "L-pAq7ppSp-Z",
    "outputId": "3f3e9654-4a04-4b59-ae8a-23b6ad2b1301"
   },
   "outputs": [],
   "source": [
    "import os\n",
    "path = \"/root/autodl-tmp/vits_chinese\"\n",
    "os.chdir(path)\n",
    "print(os.getcwd())"
   ]
  },
  {
   "cell_type": "code",
   "execution_count": null,
   "metadata": {
    "colab": {
     "base_uri": "https://localhost:8080/"
    },
    "executionInfo": {
     "elapsed": 4562,
     "status": "ok",
     "timestamp": 1660499332715,
     "user": {
      "displayName": "雨",
      "userId": "16814880682179917082"
     },
     "user_tz": -480
    },
    "id": "LOsV22D8IUTS",
    "outputId": "377d309f-834c-43a7-eb62-4f9374796d75"
   },
   "outputs": [],
   "source": [
    "%cd monotonic_align\n",
    "!python setup.py build_ext --inplace\n",
    "%cd .."
   ]
  },
  {
   "cell_type": "code",
   "execution_count": null,
   "metadata": {
    "colab": {
     "base_uri": "https://localhost:8080/"
    },
    "executionInfo": {
     "elapsed": 423,
     "status": "ok",
     "timestamp": 1660499379804,
     "user": {
      "displayName": "雨",
      "userId": "16814880682179917082"
     },
     "user_tz": -480
    },
    "id": "5feIfJWdRNRB",
    "outputId": "5f6c756f-3e9c-4010-8f71-4a6d570ec15a"
   },
   "outputs": [],
   "source": [
    "import os\n",
    "path = \"/root/autodl-tmp/vits_chinese\"\n",
    "os.chdir(path)\n",
    "print(os.getcwd())"
   ]
  },
  {
   "cell_type": "code",
   "execution_count": null,
   "metadata": {
    "colab": {
     "base_uri": "https://localhost:8080/"
    },
    "executionInfo": {
     "elapsed": 5172,
     "status": "ok",
     "timestamp": 1660499389537,
     "user": {
      "displayName": "雨",
      "userId": "16814880682179917082"
     },
     "user_tz": -480
    },
    "id": "JXYOrkJmRuSh",
    "outputId": "ba183239-dd67-4c24-d848-a395ac6ea6f7"
   },
   "outputs": [],
   "source": [
    "!python preprocess.py --text_index 2 --text_cleaners zh_ja_mixture_cleaners --filelists mix/mix_jp_zh.txt mix/mix_jp_zh_val.txt"
   ]
  },
  {
   "cell_type": "markdown",
   "metadata": {
    "id": "gjIAR_UsmPEz",
    "tags": []
   },
   "source": [
    "# 训练"
   ]
  },
  {
   "cell_type": "code",
   "execution_count": null,
   "metadata": {
    "colab": {
     "base_uri": "https://localhost:8080/"
    },
    "executionInfo": {
     "elapsed": 423,
     "status": "ok",
     "timestamp": 1660499379804,
     "user": {
      "displayName": "雨",
      "userId": "16814880682179917082"
     },
     "user_tz": -480
    },
    "id": "5feIfJWdRNRB",
    "outputId": "5f6c756f-3e9c-4010-8f71-4a6d570ec15a"
   },
   "outputs": [],
   "source": [
    "import os\n",
    "path = \"/root/autodl-tmp/vits_chinese\"\n",
    "os.chdir(path)\n",
    "print(os.getcwd())"
   ]
  },
  {
   "cell_type": "code",
   "execution_count": null,
   "metadata": {
    "colab": {
     "base_uri": "https://localhost:8080/"
    },
    "executionInfo": {
     "elapsed": 1006188,
     "status": "ok",
     "timestamp": 1660512277046,
     "user": {
      "displayName": "雨",
      "userId": "16814880682179917082"
     },
     "user_tz": -480
    },
    "id": "MrV5GulH3us_",
    "outputId": "83cc0aae-17f8-4e8c-e4e5-cf233bc60e7b"
   },
   "outputs": [],
   "source": [
    "!python train_ms.py -c configs/mix.json -m mix"
   ]
  },
  {
   "cell_type": "markdown",
   "metadata": {},
   "source": [
    "# 合成语音"
   ]
  },
  {
   "cell_type": "code",
   "execution_count": null,
   "metadata": {
    "colab": {
     "base_uri": "https://localhost:8080/"
    },
    "executionInfo": {
     "elapsed": 2500,
     "status": "ok",
     "timestamp": 1660496848992,
     "user": {
      "displayName": "雨",
      "userId": "16814880682179917082"
     },
     "user_tz": -480
    },
    "id": "S8gpGR7HUx8w",
    "outputId": "85a7028d-4814-492c-884c-02b736132959",
    "tags": []
   },
   "outputs": [],
   "source": [
    "#在\"代码执行程序\"下拉菜单选择\"重新启动代码程序\"\n",
    "#再从该代码框开始，进行推断和输出语音\n",
    "import os\n",
    "path = \"/root/autodl-tmp/vits_chinese\"\n",
    "os.chdir(path)\n",
    "print(os.getcwd())\n",
    "\n",
    "%matplotlib inline\n",
    "import matplotlib.pyplot as plt\n",
    "import IPython.display as ipd\n",
    "\n",
    "import os\n",
    "import json\n",
    "import math\n",
    "import torch\n",
    "from torch import nn\n",
    "from torch.nn import functional as F\n",
    "from torch.utils.data import DataLoader\n",
    "\n",
    "import commons\n",
    "import utils\n",
    "from data_utils import TextAudioLoader, TextAudioCollate, TextAudioSpeakerLoader, TextAudioSpeakerCollate\n",
    "from models import SynthesizerTrn\n",
    "from text.symbols import symbols\n",
    "from text import text_to_sequence\n",
    "\n",
    "from scipy.io.wavfile import write\n",
    "\n",
    "\n",
    "def get_text(text, hps):\n",
    "    text_norm = text_to_sequence(text, hps.data.text_cleaners)\n",
    "    if hps.data.add_blank:\n",
    "        text_norm = commons.intersperse(text_norm, 0)\n",
    "    text_norm = torch.LongTensor(text_norm)\n",
    "    return text_norm"
   ]
  },
  {
   "cell_type": "code",
   "execution_count": null,
   "metadata": {
    "id": "o3OCVb09sM3D"
   },
   "outputs": [],
   "source": [
    "hps = utils.get_hparams_from_file(\"./configs/mix_test.json\")"
   ]
  },
  {
   "cell_type": "code",
   "execution_count": null,
   "metadata": {
    "id": "O3K5fYBnJSfT"
   },
   "outputs": [],
   "source": [
    "net_g = SynthesizerTrn(\n",
    "    len(symbols),\n",
    "    hps.data.filter_length // 2 + 1,\n",
    "    hps.train.segment_size // hps.data.hop_length,\n",
    "    n_speakers=hps.data.n_speakers,\n",
    "    **hps.model).cuda()\n",
    "_ = net_g.eval()\n",
    "\n",
    "_ = utils.load_checkpoint(\"./logs/mix/G_155000.pth\", net_g, None)"
   ]
  },
  {
   "cell_type": "code",
   "execution_count": null,
   "metadata": {},
   "outputs": [],
   "source": [
    "#中文输入\n",
    "original_text_ZH = ''\n",
    "#日语输入\n",
    "original_text_JA = '授業中に出したら，学生生活終わるナリ'"
   ]
  },
  {
   "cell_type": "code",
   "execution_count": null,
   "metadata": {
    "jupyter": {
     "source_hidden": true
    },
    "tags": []
   },
   "outputs": [],
   "source": [
    "#人物选择\n",
    "\n",
    "original_text_ZH_1 = '@ZH@' + original_text_ZH + '@ZH@'\n",
    "original_text_JA_1 = '@JA@' + original_text_JA + '@JA@'\n",
    "original_text = original_text_ZH_1 + original_text_JA_1\n",
    "stn_tst = get_text(original_text, hps)\n",
    "\n",
    "with torch.no_grad():\n",
    "    x_tst = stn_tst.cuda().unsqueeze(0)\n",
    "    x_tst_lengths = torch.LongTensor([stn_tst.size(0)]).cuda()\n",
    "    sid = torch.LongTensor([0]).cuda()\n",
    "    audio = net_g.infer(x_tst, x_tst_lengths,sid=sid, noise_scale=.667, noise_scale_w=0.8, length_scale=1)[0][0,0].data.cpu().float().numpy()\n",
    "ipd.display(ipd.Audio(audio, rate=hps.data.sampling_rate))\n",
    "with torch.no_grad():\n",
    "    x_tst = stn_tst.cuda().unsqueeze(0)\n",
    "    x_tst_lengths = torch.LongTensor([stn_tst.size(0)]).cuda()\n",
    "    sid = torch.LongTensor([1]).cuda()\n",
    "    audio = net_g.infer(x_tst, x_tst_lengths,sid=sid, noise_scale=.667, noise_scale_w=0.8, length_scale=1)[0][0,0].data.cpu().float().numpy()\n",
    "ipd.display(ipd.Audio(audio, rate=hps.data.sampling_rate))\n",
    "with torch.no_grad():\n",
    "    x_tst = stn_tst.cuda().unsqueeze(0)\n",
    "    x_tst_lengths = torch.LongTensor([stn_tst.size(0)]).cuda()\n",
    "    sid = torch.LongTensor([2]).cuda()\n",
    "    audio = net_g.infer(x_tst, x_tst_lengths,sid=sid, noise_scale=.667, noise_scale_w=0.8, length_scale=1)[0][0,0].data.cpu().float().numpy()\n",
    "ipd.display(ipd.Audio(audio, rate=hps.data.sampling_rate))\n",
    "with torch.no_grad():\n",
    "    x_tst = stn_tst.cuda().unsqueeze(0)\n",
    "    x_tst_lengths = torch.LongTensor([stn_tst.size(0)]).cuda()\n",
    "    sid = torch.LongTensor([3]).cuda()\n",
    "    audio = net_g.infer(x_tst, x_tst_lengths,sid=sid, noise_scale=.667, noise_scale_w=0.8, length_scale=1)[0][0,0].data.cpu().float().numpy()\n",
    "ipd.display(ipd.Audio(audio, rate=hps.data.sampling_rate))\n",
    "with torch.no_grad():\n",
    "    x_tst = stn_tst.cuda().unsqueeze(0)\n",
    "    x_tst_lengths = torch.LongTensor([stn_tst.size(0)]).cuda()\n",
    "    sid = torch.LongTensor([4]).cuda()\n",
    "    audio = net_g.infer(x_tst, x_tst_lengths,sid=sid, noise_scale=.667, noise_scale_w=0.8, length_scale=1)[0][0,0].data.cpu().float().numpy()\n",
    "ipd.display(ipd.Audio(audio, rate=hps.data.sampling_rate))\n",
    "with torch.no_grad():\n",
    "    x_tst = stn_tst.cuda().unsqueeze(0)\n",
    "    x_tst_lengths = torch.LongTensor([stn_tst.size(0)]).cuda()\n",
    "    sid = torch.LongTensor([5]).cuda()\n",
    "    audio = net_g.infer(x_tst, x_tst_lengths,sid=sid, noise_scale=.667, noise_scale_w=0.8, length_scale=1)[0][0,0].data.cpu().float().numpy()\n",
    "ipd.display(ipd.Audio(audio, rate=hps.data.sampling_rate))\n",
    "with torch.no_grad():\n",
    "    x_tst = stn_tst.cuda().unsqueeze(0)\n",
    "    x_tst_lengths = torch.LongTensor([stn_tst.size(0)]).cuda()\n",
    "    sid = torch.LongTensor([6]).cuda()\n",
    "    audio = net_g.infer(x_tst, x_tst_lengths,sid=sid, noise_scale=.667, noise_scale_w=0.8, length_scale=1)[0][0,0].data.cpu().float().numpy()\n",
    "ipd.display(ipd.Audio(audio, rate=hps.data.sampling_rate))\n",
    "with torch.no_grad():\n",
    "    x_tst = stn_tst.cuda().unsqueeze(0)\n",
    "    x_tst_lengths = torch.LongTensor([stn_tst.size(0)]).cuda()\n",
    "    sid = torch.LongTensor([7]).cuda()\n",
    "    audio = net_g.infer(x_tst, x_tst_lengths,sid=sid, noise_scale=.667, noise_scale_w=0.8, length_scale=1)[0][0,0].data.cpu().float().numpy()\n",
    "ipd.display(ipd.Audio(audio, rate=hps.data.sampling_rate))\n",
    "with torch.no_grad():\n",
    "    x_tst = stn_tst.cuda().unsqueeze(0)\n",
    "    x_tst_lengths = torch.LongTensor([stn_tst.size(0)]).cuda()\n",
    "    sid = torch.LongTensor([8]).cuda()\n",
    "    audio = net_g.infer(x_tst, x_tst_lengths,sid=sid, noise_scale=.667, noise_scale_w=0.8, length_scale=1)[0][0,0].data.cpu().float().numpy()\n",
    "ipd.display(ipd.Audio(audio, rate=hps.data.sampling_rate))\n",
    "with torch.no_grad():\n",
    "    x_tst = stn_tst.cuda().unsqueeze(0)\n",
    "    x_tst_lengths = torch.LongTensor([stn_tst.size(0)]).cuda()\n",
    "    sid = torch.LongTensor([9]).cuda()\n",
    "    audio = net_g.infer(x_tst, x_tst_lengths,sid=sid, noise_scale=.667, noise_scale_w=0.8, length_scale=1)[0][0,0].data.cpu().float().numpy()\n",
    "ipd.display(ipd.Audio(audio, rate=hps.data.sampling_rate))\n",
    "with torch.no_grad():\n",
    "    x_tst = stn_tst.cuda().unsqueeze(0)\n",
    "    x_tst_lengths = torch.LongTensor([stn_tst.size(0)]).cuda()\n",
    "    sid = torch.LongTensor([10]).cuda()\n",
    "    audio = net_g.infer(x_tst, x_tst_lengths,sid=sid, noise_scale=.667, noise_scale_w=0.8, length_scale=1)[0][0,0].data.cpu().float().numpy()\n",
    "ipd.display(ipd.Audio(audio, rate=hps.data.sampling_rate))\n"
   ]
  },
  {
   "cell_type": "code",
   "execution_count": null,
   "metadata": {},
   "outputs": [],
   "source": []
  },
  {
   "cell_type": "markdown",
   "metadata": {},
   "source": [
    "# 声音转换"
   ]
  },
  {
   "cell_type": "code",
   "execution_count": null,
   "metadata": {},
   "outputs": [],
   "source": [
    "dataset = TextAudioSpeakerLoader(hps.data.validation_files, hps.data)\n",
    "collate_fn = TextAudioSpeakerCollate()\n",
    "loader = DataLoader(dataset, num_workers=8, shuffle=False,\n",
    "    batch_size=1, pin_memory=True,\n",
    "    drop_last=True, collate_fn=collate_fn)\n",
    "data_list = list(loader)"
   ]
  },
  {
   "cell_type": "code",
   "execution_count": null,
   "metadata": {},
   "outputs": [],
   "source": [
    "with torch.no_grad():\n",
    "    x, x_lengths, spec, spec_lengths, y, y_lengths, sid_src = [x.cuda() for x in data_list[0]]\n",
    "    sid_tgt1 = torch.LongTensor([0]).cuda()\n",
    "    sid_tgt2 = torch.LongTensor([1]).cuda()\n",
    "    sid_tgt3 = torch.LongTensor([2]).cuda()\n",
    "    audio1 = net_g.voice_conversion(spec, spec_lengths, sid_src=sid_src, sid_tgt=sid_tgt1)[0][0,0].data.cpu().float().numpy()\n",
    "    audio2 = net_g.voice_conversion(spec, spec_lengths, sid_src=sid_src, sid_tgt=sid_tgt2)[0][0,0].data.cpu().float().numpy()\n",
    "    audio3 = net_g.voice_conversion(spec, spec_lengths, sid_src=sid_src, sid_tgt=sid_tgt3)[0][0,0].data.cpu().float().numpy()\n",
    "print(\"Original SID: %d\" % sid_src.item())\n",
    "ipd.display(ipd.Audio(y[0].cpu().numpy(), rate=hps.data.sampling_rate, normalize=False))\n",
    "print(\"Converted SID: %d\" % sid_tgt1.item())\n",
    "ipd.display(ipd.Audio(audio1, rate=hps.data.sampling_rate, normalize=False))\n",
    "print(\"Converted SID: %d\" % sid_tgt2.item())\n",
    "ipd.display(ipd.Audio(audio2, rate=hps.data.sampling_rate, normalize=False))\n",
    "print(\"Converted SID: %d\" % sid_tgt3.item())\n",
    "ipd.display(ipd.Audio(audio3, rate=hps.data.sampling_rate, normalize=False))"
   ]
  },
  {
   "cell_type": "code",
   "execution_count": null,
   "metadata": {},
   "outputs": [],
   "source": []
  }
 ],
 "metadata": {
  "accelerator": "GPU",
  "colab": {
   "collapsed_sections": [],
   "machine_shape": "hm",
   "name": "mxj.ipynb",
   "provenance": [
    {
     "file_id": "1aoCyBaURg4zxpg7zLdy-3NkpzWHe0Esk",
     "timestamp": 1660486126405
    }
   ]
  },
  "gpuClass": "standard",
  "kernelspec": {
   "display_name": "Python 3 (ipykernel)",
   "language": "python",
   "name": "python3"
  },
  "language_info": {
   "codemirror_mode": {
    "name": "ipython",
    "version": 3
   },
   "file_extension": ".py",
   "mimetype": "text/x-python",
   "name": "python",
   "nbconvert_exporter": "python",
   "pygments_lexer": "ipython3",
   "version": "3.8.10"
  },
  "vscode": {
   "interpreter": {
    "hash": "b30f2c491e55bf6cf9a17a641be09f200e6821b7526dda23542985a9b1ae470b"
   }
  }
 },
 "nbformat": 4,
 "nbformat_minor": 4
}
